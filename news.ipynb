{
 "cells": [
  {
   "cell_type": "markdown",
   "metadata": {},
   "source": [
    "## What's new in COBRApy?\n",
    "\n",
    "This is a short demo notebook for the new features in cobrapy 0.6.\n",
    "\n",
    "First let's create a small cobra model of the *E. coli* central carbon metabolism."
   ]
  },
  {
   "cell_type": "code",
   "execution_count": 3,
   "metadata": {},
   "outputs": [
    {
     "data": {
      "text/plain": [
       "<Solution 0.874 at 0x7fee3cbb1240>"
      ]
     },
     "execution_count": 3,
     "metadata": {},
     "output_type": "execute_result"
    }
   ],
   "source": [
    "from cobra.test import create_test_model\n",
    "\n",
    "ecoli = create_test_model(\"textbook\")\n",
    "ecoli.optimize()"
   ]
  },
  {
   "cell_type": "markdown",
   "metadata": {},
   "source": [
    "### Summaries\n",
    "\n",
    "Summary functions are not really a feature of 0.6 but many people are still not aware of them. so let's reiterate the here :)"
   ]
  },
  {
   "cell_type": "code",
   "execution_count": 4,
   "metadata": {},
   "outputs": [
    {
     "name": "stdout",
     "output_type": "stream",
     "text": [
      "IN FLUXES        OUT FLUXES    OBJECTIVES\n",
      "---------------  ------------  ----------------------\n",
      "o2_e      21.8   h2o_e  29.2   Biomass_Ecol...  0.874\n",
      "glc__D_e  10     co2_e  22.8\n",
      "nh4_e      4.77  h_e    17.5\n",
      "pi_e       3.21\n"
     ]
    }
   ],
   "source": [
    "ecoli.summary()"
   ]
  },
  {
   "cell_type": "markdown",
   "metadata": {},
   "source": [
    "The basic summary gives a nice overview of the used imports and exports as well as the current objective. We can also get a summary on the level of a single metabolite."
   ]
  },
  {
   "cell_type": "code",
   "execution_count": 8,
   "metadata": {},
   "outputs": [
    {
     "name": "stdout",
     "output_type": "stream",
     "text": [
      "PRODUCING REACTIONS -- D-Glucose 6-phosphate (g6p_c)\n",
      "----------------------------------------------------\n",
      "%       FLUX  RXN ID      REACTION\n",
      "----  ------  ----------  --------------------------------------------------\n",
      "100%  10      GLCpts      glc__D_e + pep_c --> g6p_c + pyr_c\n",
      "\n",
      "CONSUMING REACTIONS -- D-Glucose 6-phosphate (g6p_c)\n",
      "----------------------------------------------------\n",
      "%       FLUX  RXN ID      REACTION\n",
      "----  ------  ----------  --------------------------------------------------\n",
      "50%    4.96   G6PDH2r     g6p_c + nadp_c <=> 6pgl_c + h_c + nadph_c\n",
      "49%    4.86   PGI         g6p_c <=> f6p_c\n",
      "2%     0.179  Biomass...  1.496 3pg_c + 3.7478 accoa_c + 59.81 atp_c + 0....\n"
     ]
    }
   ],
   "source": [
    "ecoli.metabolites.g6p_c.summary()"
   ]
  },
  {
   "cell_type": "markdown",
   "metadata": {},
   "source": [
    "This gives us basic information about the consuming reactions and how the fluxes are distributed between them."
   ]
  },
  {
   "cell_type": "markdown",
   "metadata": {},
   "source": [
    "### New solver interface"
   ]
  },
  {
   "cell_type": "markdown",
   "metadata": {},
   "source": [
    "COBRApy now used [optlang](https://github.com/biosustain/optlang) to manage the underlying solvers which gives much nicer interfaces and some general improvements. All COBRA models now have a `solver` attribute which is a full-fledged optlang problem. As a consequence the objective can now be an optlang expression giving much more possibilities for custom objectives."
   ]
  },
  {
   "cell_type": "code",
   "execution_count": 38,
   "metadata": {},
   "outputs": [
    {
     "name": "stdout",
     "output_type": "stream",
     "text": [
      "Maximize\n",
      "-1.0*Biomass_Ecoli_core_reverse_2cdba + 1.0*Biomass_Ecoli_core\n"
     ]
    },
    {
     "data": {
      "text/plain": [
       "<optlang.glpk_interface.Model at 0x7fee3c90c9e8>"
      ]
     },
     "execution_count": 38,
     "metadata": {},
     "output_type": "execute_result"
    }
   ],
   "source": [
    "ecoli = create_test_model(\"textbook\")\n",
    "print(ecoli.objective)\n",
    "ecoli.solver"
   ]
  },
  {
   "cell_type": "markdown",
   "metadata": {},
   "source": [
    " Even if you don't want to create complex constraints you might appreciate one immediate effect of the new interface: solution basis reuse is enabled automatically. "
   ]
  },
  {
   "cell_type": "code",
   "execution_count": 11,
   "metadata": {},
   "outputs": [
    {
     "name": "stdout",
     "output_type": "stream",
     "text": [
      "CPU times: user 1.89 ms, sys: 0 ns, total: 1.89 ms\n",
      "Wall time: 1.9 ms\n",
      "CPU times: user 1.13 ms, sys: 0 ns, total: 1.13 ms\n",
      "Wall time: 1.16 ms\n"
     ]
    },
    {
     "data": {
      "text/plain": [
       "<Solution 0.874 at 0x7fee3c917898>"
      ]
     },
     "execution_count": 11,
     "metadata": {},
     "output_type": "execute_result"
    }
   ],
   "source": [
    "# first\n",
    "%time ecoli.optimize()\n",
    "\n",
    "#second\n",
    "%time ecoli.optimize()"
   ]
  },
  {
   "cell_type": "markdown",
   "metadata": {},
   "source": [
    "If you just want a single flux or the objective value using the optlang interface directly can be much more performant."
   ]
  },
  {
   "cell_type": "code",
   "execution_count": 21,
   "metadata": {},
   "outputs": [
    {
     "name": "stdout",
     "output_type": "stream",
     "text": [
      "CPU times: user 88 µs, sys: 23 µs, total: 111 µs\n",
      "Wall time: 116 µs\n",
      "0.8739215069684307\n",
      "CPU times: user 67 µs, sys: 0 ns, total: 67 µs\n",
      "Wall time: 61 µs\n"
     ]
    }
   ],
   "source": [
    "%time ecoli.solver.optimize()\n",
    "\n",
    "%time print(ecoli.objective.value)"
   ]
  },
  {
   "cell_type": "markdown",
   "metadata": {},
   "source": [
    "Internally we now use a irreversible formulation of the problem which makes implementig many algorithms much easier since you do not have to convert between reversible and irreversible representations anymore. However, you will never have to deal with that explicitly and fluxes can still be reversible as always. To see the internal representation of a flux there is the new `flux_expression` and variables."
   ]
  },
  {
   "cell_type": "code",
   "execution_count": 39,
   "metadata": {},
   "outputs": [
    {
     "name": "stdout",
     "output_type": "stream",
     "text": [
      "-1.0*ATPM_reverse_5b752 + 1.0*ATPM\n",
      "8.39 <= ATPM <= 1000.0\n"
     ]
    }
   ],
   "source": [
    "atpm = ecoli.reactions.ATPM\n",
    "print(atpm.flux_expression)\n",
    "print(atpm.forward_variable)  # optlang prints variables nicely together with their bounds"
   ]
  },
  {
   "cell_type": "markdown",
   "metadata": {},
   "source": [
    "However you do not have to interact with the optlang interface at all. Everything is automatically handled and you can use the old flux bounds."
   ]
  },
  {
   "cell_type": "code",
   "execution_count": 16,
   "metadata": {},
   "outputs": [
    {
     "data": {
      "text/plain": [
       "(8.39, 1000.0)"
      ]
     },
     "execution_count": 16,
     "metadata": {},
     "output_type": "execute_result"
    }
   ],
   "source": [
    "atpm.bounds"
   ]
  },
  {
   "cell_type": "markdown",
   "metadata": {},
   "source": [
    "If you need to you can create variables, constraints and objectives directly. No more weird mock reaction to implement your custom constraints. For instance let us create a new variable whose value will be fixed to half of the ATPM reaction flux. For that we first create a new unbounded variable and than add a constraint to make the variable equal to half the flux. Constraints in optlang can be defined by linear statements directly."
   ]
  },
  {
   "cell_type": "code",
   "execution_count": 40,
   "metadata": {},
   "outputs": [
    {
     "name": "stdout",
     "output_type": "stream",
     "text": [
      "8.39\n",
      "4.195\n"
     ]
    }
   ],
   "source": [
    "variable = ecoli.problem.Variable(\"test_var\")\n",
    "constraint = ecoli.problem.Constraint(0.5 * atpm.flux_expression - variable, lb=0, ub=0)\n",
    "ecoli.add_cons_vars([variable, constraint])\n",
    "ecoli.optimize()\n",
    "print(atpm.flux)\n",
    "print(ecoli.variables.test_var.primal) # This is how you can access non-flux variables"
   ]
  },
  {
   "cell_type": "markdown",
   "metadata": {},
   "source": [
    "### Solution\n",
    "\n",
    "The solution object has also received an overhaul in COBRApy 0.6. the solution is not a propert of the model anymore which means it can be saved seperattely and contains a snapshot of the solution at the moment it was obtained. Fluxes and shadow costs are now saved as pandas Series giving a much nicer representation."
   ]
  },
  {
   "cell_type": "code",
   "execution_count": 50,
   "metadata": {},
   "outputs": [
    {
     "name": "stdout",
     "output_type": "stream",
     "text": [
      "ACALD     0.00000\n",
      "ACALDt    0.00000\n",
      "ACKr      0.00000\n",
      "ACONTa    6.00725\n",
      "ACONTb    6.00725\n",
      "Name: fluxes, dtype: float64\n",
      "ATPM flux #1: 8.39\n",
      "ATPM flux #2: 8.39\n",
      "Objective value: 0.8739215069684307\n"
     ]
    },
    {
     "data": {
      "image/png": "[encoded data removed]",
      "text/plain": [
       "<matplotlib.figure.Figure at 0x7fee3cd596a0>"
      ]
     },
     "metadata": {},
     "output_type": "display_data"
    }
   ],
   "source": [
    "%matplotlib inline\n",
    "\n",
    "ecoli = create_test_model(\"textbook\")\n",
    "\n",
    "sol = ecoli.optimize()\n",
    "print(sol.fluxes.head())\n",
    "sol.fluxes.plot(\"hist\")\n",
    "print(\"ATPM flux #1:\", sol.fluxes.ATPM) # or access directly\n",
    "print(\"ATPM flux #2:\", sol[\"ATPM\"])\n",
    "print(\"Objective value:\", sol.objective_value)"
   ]
  },
  {
   "cell_type": "markdown",
   "metadata": {},
   "source": [
    "### Context managers for temporary changes\n",
    "\n",
    "One pattern we observed a lot in the daily Systems Biology workflow was to take a model, make some changes, optimize, reset the model and repeat with other changes. Previously, you would have to track those changes by hand. For instance by only applying them to a copy of the model of reading the model again from a file. This is not only slow but also cumbersome. COBRApy 0.6 comes with new context managers that allow you to apply changes within a `with`-block and have them reverted automatically on exit. That may sound complicated but is better explained with a small example.\n",
    "\n",
    "Let us assume we want to quickly get the maximum ATPM flux in the model."
   ]
  },
  {
   "cell_type": "code",
   "execution_count": 52,
   "metadata": {},
   "outputs": [
    {
     "name": "stdout",
     "output_type": "stream",
     "text": [
      "<Solution 175.000 at 0x7fee37351470>\n",
      "Maximize\n",
      "-1.0*Biomass_Ecoli_core_reverse_2cdba + 1.0*Biomass_Ecoli_core\n",
      "<Solution 0.874 at 0x7fee37351fd0>\n"
     ]
    }
   ],
   "source": [
    "with ecoli:\n",
    "    ecoli.objective = \"ATPM\"\n",
    "    print(ecoli.optimize())\n",
    "print(ecoli.objective)\n",
    "print(ecoli.optimize())"
   ]
  },
  {
   "cell_type": "markdown",
   "metadata": {},
   "source": [
    "As we can see the objective was applied within the `with`-block but reset automatically afterwards to the old objective."
   ]
  },
  {
   "cell_type": "markdown",
   "metadata": {},
   "source": [
    "Another example could be simulating a knockout of several reaction."
   ]
  },
  {
   "cell_type": "code",
   "execution_count": 56,
   "metadata": {},
   "outputs": [
    {
     "name": "stdout",
     "output_type": "stream",
     "text": [
      "(0, 0)\n",
      "<Solution -0.000 at 0x7fee3c5304a8>\n",
      "(-1000.0, 1000.0)\n"
     ]
    }
   ],
   "source": [
    "with ecoli:\n",
    "    ecoli.reactions.ACALD.knock_out()\n",
    "    print(ecoli.reactions.ACALD.bounds)\n",
    "    ecoli.reactions.ACONTa.knock_out()\n",
    "    print(ecoli.optimize())\n",
    "print(ecoli.reactions.ACALD.bounds)"
   ]
  },
  {
   "cell_type": "markdown",
   "metadata": {},
   "source": [
    "All operations in the normal API and many more are supported by the context manager. Resettable operations include:\n",
    "\n",
    "- adding and deleting reactions or metabolites\n",
    "- changing the objective\n",
    "- changing flux bounds\n",
    "- adding or removing optlang variables and constraints"
   ]
  },
  {
   "cell_type": "markdown",
   "metadata": {},
   "source": [
    "### Loopless solutions\n",
    "\n",
    "COBRApy now inludes several strategies to obtain loopless solutions quickly. The new function `loopless_solution` can be used to convert a normal flux solution to a loopless one."
   ]
  },
  {
   "cell_type": "code",
   "execution_count": 60,
   "metadata": {},
   "outputs": [
    {
     "name": "stdout",
     "output_type": "stream",
     "text": [
      "CPU times: user 14.1 ms, sys: 46 µs, total: 14.1 ms\n",
      "Wall time: 13.7 ms\n"
     ]
    },
    {
     "data": {
      "text/plain": [
       "ACALD     0.00000\n",
       "ACALDt    0.00000\n",
       "ACKr      0.00000\n",
       "ACONTa    6.00725\n",
       "ACONTb    6.00725\n",
       "Name: fluxes, dtype: float64"
      ]
     },
     "execution_count": 60,
     "metadata": {},
     "output_type": "execute_result"
    }
   ],
   "source": [
    "from cobra.flux_analysis import loopless_solution\n",
    "\n",
    "%time ll_sol = loopless_solution(ecoli)\n",
    "ll_sol.fluxes.head()"
   ]
  },
  {
   "cell_type": "markdown",
   "metadata": {},
   "source": [
    "Additionally flux variability analysis now supports requesting only loopless solutions as well. Our *E. coli* model actually has a loop in the SUCDi reaction which we can see easily."
   ]
  },
  {
   "cell_type": "code",
   "execution_count": 67,
   "metadata": {},
   "outputs": [
    {
     "name": "stdout",
     "output_type": "stream",
     "text": [
      "maximum    1000.000000\n",
      "minimum       5.064376\n",
      "Name: SUCDi, dtype: float64 \n",
      "\n",
      "maximum    5.064376\n",
      "minimum    5.064376\n",
      "Name: SUCDi, dtype: float64\n"
     ]
    }
   ],
   "source": [
    "from cobra.flux_analysis import flux_variability_analysis\n",
    "\n",
    "vari = flux_variability_analysis(ecoli)\n",
    "print(vari.loc[\"SUCDi\"], \"\\n\")\n",
    "\n",
    "ll_vari = flux_variability_analysis(ecoli, loopless=True)\n",
    "print(ll_vari.loc[\"SUCDi\"])"
   ]
  },
  {
   "cell_type": "markdown",
   "metadata": {},
   "source": [
    "So the maximum flux of 1000 for that reaction is only obtainable with thermodinamically infeasible loop."
   ]
  },
  {
   "cell_type": "markdown",
   "metadata": {},
   "source": [
    "### Flux sampling"
   ]
  },
  {
   "cell_type": "markdown",
   "metadata": {},
   "source": [
    "COBRApy now also includes algorithms for flux sampling which try to generate uniform samples of the flux space. We currently support the artificial-centering hit and run (ACHR) and OptGP algorithms. Here, OptGP can use multiple processes to generate samples in parallel. The easiest access is via the new `sample` function."
   ]
  },
  {
   "cell_type": "code",
   "execution_count": 71,
   "metadata": {},
   "outputs": [
    {
     "name": "stdout",
     "output_type": "stream",
     "text": [
      "CPU times: user 195 ms, sys: 411 ms, total: 607 ms\n",
      "Wall time: 448 ms\n",
      "CPU times: user 947 ms, sys: 911 ms, total: 1.86 s\n",
      "Wall time: 822 ms\n"
     ]
    },
    {
     "data": {
      "text/html": [
       "<div>\n",
       "<table border=\"1\" class=\"dataframe\">\n",
       "  <thead>\n",
       "    <tr style=\"text-align: right;\">\n",
       "      <th></th>\n",
       "      <th>ACALD</th>\n",
       "      <th>ACALDt</th>\n",
       "      <th>ACKr</th>\n",
       "      <th>ACONTa</th>\n",
       "      <th>ACONTb</th>\n",
       "      <th>ACt2r</th>\n",
       "      <th>ADK1</th>\n",
       "      <th>AKGDH</th>\n",
       "      <th>AKGt2r</th>\n",
       "      <th>ALCD2x</th>\n",
       "      <th>...</th>\n",
       "      <th>RPI</th>\n",
       "      <th>SUCCt2_2</th>\n",
       "      <th>SUCCt3</th>\n",
       "      <th>SUCDi</th>\n",
       "      <th>SUCOAS</th>\n",
       "      <th>TALA</th>\n",
       "      <th>THD2</th>\n",
       "      <th>TKT1</th>\n",
       "      <th>TKT2</th>\n",
       "      <th>TPI</th>\n",
       "    </tr>\n",
       "  </thead>\n",
       "  <tbody>\n",
       "    <tr>\n",
       "      <th>0</th>\n",
       "      <td>-1.669933</td>\n",
       "      <td>-0.084543</td>\n",
       "      <td>-3.104383</td>\n",
       "      <td>9.179873</td>\n",
       "      <td>9.179873</td>\n",
       "      <td>-3.104383</td>\n",
       "      <td>2.276213</td>\n",
       "      <td>7.788044</td>\n",
       "      <td>-0.283664</td>\n",
       "      <td>-1.585390</td>\n",
       "      <td>...</td>\n",
       "      <td>-1.289981</td>\n",
       "      <td>25.918976</td>\n",
       "      <td>26.222244</td>\n",
       "      <td>683.054270</td>\n",
       "      <td>-7.788044</td>\n",
       "      <td>1.253918</td>\n",
       "      <td>6.985417</td>\n",
       "      <td>1.253918</td>\n",
       "      <td>1.239415</td>\n",
       "      <td>7.680271</td>\n",
       "    </tr>\n",
       "    <tr>\n",
       "      <th>1</th>\n",
       "      <td>-0.052297</td>\n",
       "      <td>-0.051879</td>\n",
       "      <td>-1.094454</td>\n",
       "      <td>12.308158</td>\n",
       "      <td>12.308158</td>\n",
       "      <td>-1.094454</td>\n",
       "      <td>1.559318</td>\n",
       "      <td>7.355370</td>\n",
       "      <td>-0.190183</td>\n",
       "      <td>-0.000418</td>\n",
       "      <td>...</td>\n",
       "      <td>-0.849656</td>\n",
       "      <td>18.903149</td>\n",
       "      <td>21.934474</td>\n",
       "      <td>558.616614</td>\n",
       "      <td>-7.355370</td>\n",
       "      <td>0.814505</td>\n",
       "      <td>24.820183</td>\n",
       "      <td>0.814505</td>\n",
       "      <td>0.800370</td>\n",
       "      <td>8.590462</td>\n",
       "    </tr>\n",
       "    <tr>\n",
       "      <th>2</th>\n",
       "      <td>-0.084909</td>\n",
       "      <td>-0.046229</td>\n",
       "      <td>-1.394200</td>\n",
       "      <td>7.010548</td>\n",
       "      <td>7.010548</td>\n",
       "      <td>-1.394200</td>\n",
       "      <td>6.907227</td>\n",
       "      <td>5.808256</td>\n",
       "      <td>-0.301173</td>\n",
       "      <td>-0.038680</td>\n",
       "      <td>...</td>\n",
       "      <td>-2.625686</td>\n",
       "      <td>35.666383</td>\n",
       "      <td>37.377161</td>\n",
       "      <td>492.495576</td>\n",
       "      <td>-5.808256</td>\n",
       "      <td>2.436915</td>\n",
       "      <td>21.969261</td>\n",
       "      <td>2.436915</td>\n",
       "      <td>2.361003</td>\n",
       "      <td>7.197315</td>\n",
       "    </tr>\n",
       "    <tr>\n",
       "      <th>3</th>\n",
       "      <td>-1.091184</td>\n",
       "      <td>-0.037253</td>\n",
       "      <td>-1.022650</td>\n",
       "      <td>8.543145</td>\n",
       "      <td>8.543145</td>\n",
       "      <td>-1.022650</td>\n",
       "      <td>7.048405</td>\n",
       "      <td>7.261570</td>\n",
       "      <td>-0.015469</td>\n",
       "      <td>-1.053930</td>\n",
       "      <td>...</td>\n",
       "      <td>-1.111562</td>\n",
       "      <td>32.301657</td>\n",
       "      <td>33.400928</td>\n",
       "      <td>419.614250</td>\n",
       "      <td>-7.261570</td>\n",
       "      <td>1.010259</td>\n",
       "      <td>2.158159</td>\n",
       "      <td>1.010259</td>\n",
       "      <td>0.969521</td>\n",
       "      <td>7.519662</td>\n",
       "    </tr>\n",
       "    <tr>\n",
       "      <th>4</th>\n",
       "      <td>-2.515973</td>\n",
       "      <td>-0.711711</td>\n",
       "      <td>-0.703389</td>\n",
       "      <td>9.217496</td>\n",
       "      <td>9.217496</td>\n",
       "      <td>-0.703389</td>\n",
       "      <td>12.209321</td>\n",
       "      <td>6.511779</td>\n",
       "      <td>-0.556013</td>\n",
       "      <td>-1.804262</td>\n",
       "      <td>...</td>\n",
       "      <td>-1.913000</td>\n",
       "      <td>23.711640</td>\n",
       "      <td>24.242527</td>\n",
       "      <td>429.978781</td>\n",
       "      <td>-6.511779</td>\n",
       "      <td>1.848988</td>\n",
       "      <td>4.701708</td>\n",
       "      <td>1.848988</td>\n",
       "      <td>1.823246</td>\n",
       "      <td>7.863198</td>\n",
       "    </tr>\n",
       "  </tbody>\n",
       "</table>\n",
       "<p>5 rows × 95 columns</p>\n",
       "</div>"
      ],
      "text/plain": [
       "      ACALD    ACALDt      ACKr     ACONTa     ACONTb     ACt2r       ADK1  \\\n",
       "0 -1.669933 -0.084543 -3.104383   9.179873   9.179873 -3.104383   2.276213   \n",
       "1 -0.052297 -0.051879 -1.094454  12.308158  12.308158 -1.094454   1.559318   \n",
       "2 -0.084909 -0.046229 -1.394200   7.010548   7.010548 -1.394200   6.907227   \n",
       "3 -1.091184 -0.037253 -1.022650   8.543145   8.543145 -1.022650   7.048405   \n",
       "4 -2.515973 -0.711711 -0.703389   9.217496   9.217496 -0.703389  12.209321   \n",
       "\n",
       "      AKGDH    AKGt2r    ALCD2x    ...          RPI   SUCCt2_2     SUCCt3  \\\n",
       "0  7.788044 -0.283664 -1.585390    ...    -1.289981  25.918976  26.222244   \n",
       "1  7.355370 -0.190183 -0.000418    ...    -0.849656  18.903149  21.934474   \n",
       "2  5.808256 -0.301173 -0.038680    ...    -2.625686  35.666383  37.377161   \n",
       "3  7.261570 -0.015469 -1.053930    ...    -1.111562  32.301657  33.400928   \n",
       "4  6.511779 -0.556013 -1.804262    ...    -1.913000  23.711640  24.242527   \n",
       "\n",
       "        SUCDi    SUCOAS      TALA       THD2      TKT1      TKT2       TPI  \n",
       "0  683.054270 -7.788044  1.253918   6.985417  1.253918  1.239415  7.680271  \n",
       "1  558.616614 -7.355370  0.814505  24.820183  0.814505  0.800370  8.590462  \n",
       "2  492.495576 -5.808256  2.436915  21.969261  2.436915  2.361003  7.197315  \n",
       "3  419.614250 -7.261570  1.010259   2.158159  1.010259  0.969521  7.519662  \n",
       "4  429.978781 -6.511779  1.848988   4.701708  1.848988  1.823246  7.863198  \n",
       "\n",
       "[5 rows x 95 columns]"
      ]
     },
     "execution_count": 71,
     "metadata": {},
     "output_type": "execute_result"
    }
   ],
   "source": [
    "from cobra.flux_analysis import sample\n",
    "\n",
    "%time s = sample(ecoli, 100, processes=2) # for OptGP\n",
    "\n",
    "%time s = sample(ecoli, 100, method=\"achr\") # for ACHR\n",
    "\n",
    "s.head()"
   ]
  },
  {
   "cell_type": "markdown",
   "metadata": {},
   "source": [
    "Note that this actually generates 10,000 samples since sampling by default only records every 100th sample to improve mixing. This can be controlled with the `thinning` parameter.\n",
    "\n",
    "For larger models you might want to have more control over the sampler which can be achieved by using the `ACHRSampler` and `OptGPSampler` classes."
   ]
  },
  {
   "cell_type": "code",
   "execution_count": 72,
   "metadata": {},
   "outputs": [
    {
     "name": "stdout",
     "output_type": "stream",
     "text": [
      "CPU times: user 221 ms, sys: 424 ms, total: 645 ms\n",
      "Wall time: 171 ms\n",
      "CPU times: user 6.46 ms, sys: 9.07 ms, total: 15.5 ms\n",
      "Wall time: 156 ms\n"
     ]
    }
   ],
   "source": [
    "from cobra.flux_analysis.sampling import OptGPSampler\n",
    "\n",
    "%time optgp = OptGPSampler(ecoli, processes=2, thinning=50)\n",
    "\n",
    "%time s = optgp.sample(100)"
   ]
  },
  {
   "cell_type": "markdown",
   "metadata": {},
   "source": [
    "As you can see buidling the sampler may take up significant time due to the generation of a complete set of initial search directions. So it is a good idea to make extensive use of an already created sampler object. The sampler object has a lot of attributes detailing the sampling process in detail."
   ]
  },
  {
   "cell_type": "code",
   "execution_count": 74,
   "metadata": {},
   "outputs": [
    {
     "name": "stdout",
     "output_type": "stream",
     "text": [
      "Sampled a total of 184 samples.\n"
     ]
    }
   ],
   "source": [
    "s = optgp.sample(42)\n",
    "\n",
    "print(\"Sampled a total of\", optgp.n_samples, \"samples.\")"
   ]
  },
  {
   "cell_type": "markdown",
   "metadata": {},
   "source": [
    "It also comes with a validation function to see whether a sample is valid."
   ]
  },
  {
   "cell_type": "code",
   "execution_count": 79,
   "metadata": {},
   "outputs": [
    {
     "name": "stdout",
     "output_type": "stream",
     "text": [
      "['le']\n",
      "['v']\n"
     ]
    }
   ],
   "source": [
    "# should not be valid\n",
    "import numpy as np\n",
    "bad = np.ones(len(ecoli.reactions))\n",
    "print(optgp.validate(bad))\n",
    "\n",
    "good = sol.fluxes\n",
    "print(optgp.validate(good))"
   ]
  },
  {
   "cell_type": "markdown",
   "metadata": {},
   "source": [
    "The codes returned by validate are:\n",
    "\n",
    "- \"v\" = valid sample\n",
    "- \"l\" or \"u\" = lower or upper bound violation\n",
    "- \"e\" equality violation, for instance if Sv != 0\n",
    "\n",
    "Furthermore, the sampler will respect additional variables and constraints defined in the model."
   ]
  },
  {
   "cell_type": "code",
   "execution_count": null,
   "metadata": {
    "collapsed": true
   },
   "outputs": [],
   "source": []
  }
 ],
 "metadata": {
  "kernelspec": {
   "display_name": "Python 3",
   "language": "python",
   "name": "python3"
  },
  "language_info": {
   "codemirror_mode": {
    "name": "ipython",
    "version": 3
   },
   "file_extension": ".py",
   "mimetype": "text/x-python",
   "name": "python",
   "nbconvert_exporter": "python",
   "pygments_lexer": "ipython3",
   "version": "3.5.3"
  }
 },
 "nbformat": 4,
 "nbformat_minor": 2
}
